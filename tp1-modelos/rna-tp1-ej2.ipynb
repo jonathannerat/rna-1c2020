{
 "cells": [
  {
   "cell_type": "markdown",
   "metadata": {},
   "source": [
    "# RNA - Trabajo Práctico 1 - E2\n",
    "Jonathan Teran <jteran@dc.uba.ar>\n",
    "\n",
    "En este notebook exploraremos tecnicas y modelos para una red neuronal que resuelva el ejercicio 2 del TP1"
   ]
  },
  {
   "cell_type": "markdown",
   "metadata": {},
   "source": [
    "## Eficiencia energética\n",
    "\n",
    "Los datos los recibimos en el archivo `tp1_ej2_training.csv`, siendo las primeras 8 columnas las características de un edificio distinto, y las últimas 2 columnas la respuesta esperada para del modelo. En un principio no nos interesan que representa cada dato, así que arrancaremos por normalizarlos cargarlos del csv y normalizarlos."
   ]
  },
  {
   "cell_type": "code",
   "execution_count": 1,
   "metadata": {},
   "outputs": [],
   "source": [
    "# importamos librería necesarias\n",
    "import numpy as np\n",
    "from matplotlib import pyplot as plt"
   ]
  },
  {
   "cell_type": "code",
   "execution_count": 4,
   "metadata": {},
   "outputs": [],
   "source": [
    "def normalize(x):\n",
    "    return (x - x.mean(0)) / x.std(0, ddof=1)\n",
    "\n",
    "def denormalize(x, med, std):\n",
    "    return x * std + med"
   ]
  },
  {
   "cell_type": "code",
   "execution_count": 5,
   "metadata": {},
   "outputs": [],
   "source": [
    "# cargar datos\n",
    "DATA_FILE = 'tp1_ej2_training.csv'\n",
    "df = np.loadtxt(DATA_FILE, delimiter=',')\n",
    "X  = df[:,:-2]\n",
    "Z0  = df[:,-2:]\n",
    "Zmed = Z0.mean(0)\n",
    "Zstd = Z0.std(0, ddof=1)\n",
    "# normalizar data\n",
    "X  = normalize(X)\n",
    "Z  = normalize(Z0)"
   ]
  },
  {
   "cell_type": "markdown",
   "metadata": {},
   "source": [
    "A continuación definiremos variables que definirán nuestro modelo, como la cantidad de nodos por capa, o la distribución de los datos en datos de testeo, validación y entrenamiento.\n",
    "\n",
    "Utilizaremos los datos de entrenamiento para entrenar la red, los de validación para verificar si el modelo es apropiado o deberíamos cambiarlo, y cuando nos hayamos decidido por un modelo particular, usaremos los de testeo para comprobar que tanto puede generalizar a otras instancias."
   ]
  },
  {
   "cell_type": "code",
   "execution_count": 67,
   "metadata": {},
   "outputs": [],
   "source": [
    "P = len(X)\n",
    "N = X.shape[1] # unidades de entrada\n",
    "M = Z.shape[1] # unidades de salida\n",
    "S = [N, 8, 8, M] # distribución de nodos por capa\n",
    "L = len(S) # cantidad de capas\n",
    "LR = 0.15 # learning rate\n",
    "LR_A = 0.03 # incrementar con este valor si el error disminuyo\n",
    "LR_B = 1e-2 # decrementar en LR*LR_Bsi el error aumento\n",
    "LR_K = 4    # si el error disminuyo en las ultimas LR_K veces, incrementar LR\n",
    "EMAR = 0.05 # margen de error\n",
    "MOM = 0.9\n",
    "\n",
    "# cantidades reservadas para: \n",
    "C_T = int(P * .05)  # testeo\n",
    "C_V = int(P * .15)  # validacion\n",
    "C_E = P - C_T - C_V # entrenamiento\n",
    "\n",
    "B = 1 # tamaños para los mini-lotes"
   ]
  },
  {
   "cell_type": "markdown",
   "metadata": {},
   "source": [
    "Finalmente, definiremos las funciones del modelo."
   ]
  },
  {
   "cell_type": "code",
   "execution_count": 7,
   "metadata": {},
   "outputs": [],
   "source": [
    "def bias_add(a):\n",
    "    return np.concatenate((a, -np.ones((len(a),1))), axis=1)\n",
    "\n",
    "def bias_del(a):\n",
    "    return a[:,:-1]"
   ]
  },
  {
   "cell_type": "code",
   "execution_count": 8,
   "metadata": {},
   "outputs": [],
   "source": [
    "def activacion(X, W):\n",
    "    b = len(X)\n",
    "    # nodos por capa + nodo extra para el bias\n",
    "    Y = [ np.empty((b, S[i]+1)) for i in range(L)]\n",
    "    Y[L-1] = np.empty((b, M))\n",
    "    # Y sin bias\n",
    "    Ysb = X\n",
    "    for i in range (1, L):\n",
    "        Y[i-1][:,:] = bias_add(Ysb)\n",
    "        Ysb = np.tanh(np.dot(Y[i-1], W[i-1]))\n",
    "    Y[L-1][:,:] = Ysb\n",
    "    \n",
    "    return Y"
   ]
  },
  {
   "cell_type": "code",
   "execution_count": 9,
   "metadata": {},
   "outputs": [],
   "source": [
    "def correccion(W, Y, Z, _dW = None):\n",
    "    b = len(Z)\n",
    "    dW = [ np.empty_like(w) for w in W ]\n",
    "    D  = [ np.empty_like(y) for y in Y]\n",
    "    E  = Z - Y[L-1]\n",
    "    dY = 1 - np.square(Y[L-1])\n",
    "    D[L-1] = np.multiply(E, dY)\n",
    "    \n",
    "    for k in range(L-1, 0, -1):\n",
    "        dE = [ np.outer(Y[k-1][i], D[k][i]) for i in range(b) ]\n",
    "        dW[k-1] = LR * np.mean(dE, axis=0) + (MOM*_dW[k-1] if _dW != None else 0)\n",
    "        E = np.dot(D[k], W[k-1].T)\n",
    "        dY = 1 - np.square(Y[k-1])\n",
    "        D[k-1] = bias_del(np.multiply(E, dY))\n",
    "    \n",
    "    return dW"
   ]
  },
  {
   "cell_type": "code",
   "execution_count": 10,
   "metadata": {},
   "outputs": [],
   "source": [
    "def adaptacion(W, dW):\n",
    "    return [ W[i] + dW[i] for i in range(L-1) ]"
   ]
  },
  {
   "cell_type": "code",
   "execution_count": 75,
   "metadata": {},
   "outputs": [],
   "source": [
    "def entrenamiento(W, X, Z):\n",
    "    global LR\n",
    "    t_max = 2000\n",
    "    t = 0\n",
    "    errores = []\n",
    "    val = []\n",
    "    lrval = []\n",
    "    k = 0\n",
    "    while t < t_max:\n",
    "        e = 0\n",
    "        indices = np.random.permutation(len(X))\n",
    "        dW = None\n",
    "        _E = None # ultimo error\n",
    "        for batch in range(0, len(indices), B):\n",
    "            h  = indices[batch : batch+B]\n",
    "            Xh = X[h]\n",
    "            Zh = Z[h]\n",
    "            Yh = activacion(Xh, W)\n",
    "            E = np.square(Zh -Yh[L-1]).sum() / 2\n",
    "            dE = _E - E if _E != None else 0\n",
    "            _E = E\n",
    "            if dE > 0:\n",
    "                LR -= LR_B * LR\n",
    "                k = 0\n",
    "                W = adaptacion(W, [ -dw for dw in dW ]) # deshacer ultimo paso\n",
    "            elif dE < 0:\n",
    "                k += 1\n",
    "                if k == LR_K:\n",
    "                    LR += LR_A\n",
    "                    k -= 1\n",
    "            e += np.mean(np.square(np.subtract(Zh, Yh[L-1])))\n",
    "            dW = correccion(W, Yh, Zh, dW)\n",
    "            W  = adaptacion(W, dW)\n",
    "        errores.append(e)\n",
    "        if t % 100 == 0:\n",
    "            print(\"#\", t)\n",
    "            print(\"e  =\", e)\n",
    "            print(\"LR =\", LR)\n",
    "            val.append(validacion(W, X, Z0[h_ent]))\n",
    "        if t % 10 == 0:\n",
    "            lrval.append(LR)\n",
    "        t += 1\n",
    "    plt.plot(errores, 'r')\n",
    "    plt.show()\n",
    "    plt.plot(val, 'g')\n",
    "    plt.show()\n",
    "    plt.plot(lrval, 'b')\n",
    "    plt.show()\n",
    "    \n",
    "    return W"
   ]
  },
  {
   "cell_type": "code",
   "execution_count": 12,
   "metadata": {},
   "outputs": [],
   "source": [
    "def init_pesos():\n",
    "    W = [ np.random.randn(S[i]+1, S[i+1]) * np.sqrt(2/S[i]) for i in range(L-1) ]\n",
    "    return W"
   ]
  },
  {
   "cell_type": "code",
   "execution_count": 13,
   "metadata": {},
   "outputs": [],
   "source": [
    "def validacion(W, X, Z):\n",
    "    Y = activacion(X, W)\n",
    "    Y = denormalize(Y[L-1], Zmed, Zstd)\n",
    "    V = np.abs(Z - Y) / Z # % de error\n",
    "    U = (V < EMAR).flatten()\n",
    "    ok = 0\n",
    "    for u in U:\n",
    "        if u == True:\n",
    "            ok += 1\n",
    "    return ok / len(U)"
   ]
  },
  {
   "cell_type": "code",
   "execution_count": 77,
   "metadata": {},
   "outputs": [
    {
     "name": "stdout",
     "output_type": "stream",
     "text": [
      "# 0\n",
      "e  = 12.517042512441414\n",
      "LR = 0.042934081648838406\n",
      "# 100\n",
      "e  = 5.3494924971663655\n",
      "LR = 0.059213771277840194\n",
      "# 200\n",
      "e  = 5.053748972967745\n",
      "LR = 0.03127642416657152\n",
      "# 300\n",
      "e  = 4.182283308106863\n",
      "LR = 0.06392524486817877\n",
      "# 400\n",
      "e  = 4.0770942391850475\n",
      "LR = 0.037004378083307914\n",
      "# 500\n",
      "e  = 4.058321411013711\n",
      "LR = 0.041190113849159236\n",
      "# 600\n",
      "e  = 4.040204936841648\n",
      "LR = 0.03296571989101594\n",
      "# 700\n",
      "e  = 4.0232161803193955\n",
      "LR = 0.045666163448329036\n",
      "# 800\n",
      "e  = 4.003860719277887\n",
      "LR = 0.0285954820854468\n",
      "# 900\n",
      "e  = 4.00332276243309\n",
      "LR = 0.030637717491836317\n",
      "# 1000\n",
      "e  = 4.008692636325793\n",
      "LR = 0.051804476219601506\n",
      "# 1100\n",
      "e  = 3.9941601694265496\n",
      "LR = 0.037168268008833355\n",
      "# 1200\n",
      "e  = 3.982656060562745\n",
      "LR = 0.03075119039355796\n",
      "# 1300\n",
      "e  = 3.974819909893946\n",
      "LR = 0.03903655675505112\n",
      "# 1400\n",
      "e  = 3.954051579880206\n",
      "LR = 0.04297189580346746\n",
      "# 1500\n",
      "e  = 4.0108420955911255\n",
      "LR = 0.06837148066132251\n",
      "# 1600\n",
      "e  = 3.9685766282443447\n",
      "LR = 0.06799518842341676\n",
      "# 1700\n",
      "e  = 3.92244574713588\n",
      "LR = 0.04881336271455985\n",
      "# 1800\n",
      "e  = 3.913615912871977\n",
      "LR = 0.023010796698616155\n",
      "# 1900\n",
      "e  = 3.912653990292967\n",
      "LR = 0.047576298588264294\n"
     ]
    },
    {
     "data": {
      "image/png": "[encoded data removed]",
      "text/plain": [
       "<Figure size 432x288 with 1 Axes>"
      ]
     },
     "metadata": {
      "needs_background": "light"
     },
     "output_type": "display_data"
    },
    {
     "data": {
      "image/png": "[encoded data removed]",
      "text/plain": [
       "<Figure size 432x288 with 1 Axes>"
      ]
     },
     "metadata": {
      "needs_background": "light"
     },
     "output_type": "display_data"
    },
    {
     "data": {
      "image/png": "[encoded data removed]",
      "text/plain": [
       "<Figure size 432x288 with 1 Axes>"
      ]
     },
     "metadata": {
      "needs_background": "light"
     },
     "output_type": "display_data"
    },
    {
     "name": "stdout",
     "output_type": "stream",
     "text": [
      "0.64\n"
     ]
    }
   ],
   "source": [
    "S = [N, 10, 16, 4, M] # distribución de nodos por capa\n",
    "L = len(S) # cantidad de capas\n",
    "LR = 5e-2 # learning rate\n",
    "LR_A = 5e-3 # incrementar con este valor si el error disminuyo\n",
    "LR_B = 1e-2 # decrementar en LR*LR_Bsi el error aumento\n",
    "LR_K = 3    # si el error disminuyo en las ultimas LR_K veces, incrementar LR\n",
    "EMAR = 0.05 # margen de error\n",
    "MOM = 0.9\n",
    "\n",
    "B = 8 # tamaños para los mini-lotes\n",
    "\n",
    "# ENTRENAMIENTO\n",
    "# usaremos los datos de entrenamiento y de validación para entrenar la\n",
    "# red y evaluar si los resultados obtenidos son buenos o no.\n",
    "W = init_pesos()\n",
    "h_ent = range(0, C_E)\n",
    "W = entrenamiento(W, X[h_ent], Z[h_ent])\n",
    "h_val = range(C_E+1, P-C_T+1)\n",
    "print(validacion(W, X[h_val], Z0[h_val]))"
   ]
  },
  {
   "cell_type": "code",
   "execution_count": 109,
   "metadata": {
    "collapsed": true
   },
   "outputs": [
    {
     "name": "stdout",
     "output_type": "stream",
     "text": [
      "# 100\n",
      "e  = 5.974249750922556\n",
      "LR = 0.060142387068455906\n",
      "# 200\n",
      "e  = 5.315148300444957\n",
      "LR = 0.04565630511873673\n",
      "# 300\n",
      "e  = 5.165097153018028\n",
      "LR = 0.05914456975664392\n",
      "# 400\n",
      "e  = 5.201633391459702\n",
      "LR = 0.04170458411255618\n",
      "# 500\n",
      "e  = 5.289489132167617\n",
      "LR = 0.13902824028412966\n",
      "# 600\n",
      "e  = 5.4176845088860395\n",
      "LR = 0.012567101961975899\n",
      "# 700\n",
      "e  = 5.145151187425664\n",
      "LR = 0.0596496175666809\n",
      "# 800\n",
      "e  = 5.129708009745166\n",
      "LR = 0.05849417773784502\n",
      "# 900\n",
      "e  = 5.115588091837702\n",
      "LR = 0.0391067398635406\n",
      "# 1000\n",
      "e  = 5.193784672102173\n",
      "LR = 0.02773852737938466\n",
      "# 1100\n",
      "e  = 5.110724061734424\n",
      "LR = 0.08765727242124206\n",
      "# 1200\n",
      "e  = 5.360385130632604\n",
      "LR = 0.0459339695901255\n",
      "# 1300\n",
      "e  = 5.054076890208803\n",
      "LR = 0.0620390274285385\n",
      "# 1400\n",
      "e  = 5.080993399012586\n",
      "LR = 0.006763231521081918\n",
      "# 1500\n",
      "e  = 5.152769588019703\n",
      "LR = 0.07558006711279833\n",
      "# 1600\n",
      "e  = 5.038483421909774\n",
      "LR = 0.11932589253654258\n",
      "# 1700\n",
      "e  = 5.329960997205025\n",
      "LR = 0.14746986382579227\n",
      "# 1800\n",
      "e  = 4.918777181896159\n",
      "LR = 0.0075821049705212884\n",
      "# 1900\n",
      "e  = 4.857411440094682\n",
      "LR = 0.009512788396917767\n",
      "# 2000\n",
      "e  = 4.931391259683885\n",
      "LR = 0.04473742363470561\n"
     ]
    },
    {
     "data": {
      "image/png": "[encoded data removed]",
      "text/plain": [
       "<Figure size 432x288 with 1 Axes>"
      ]
     },
     "metadata": {
      "needs_background": "light"
     },
     "output_type": "display_data"
    },
    {
     "data": {
      "image/png": "[encoded data removed]",
      "text/plain": [
       "<Figure size 432x288 with 1 Axes>"
      ]
     },
     "metadata": {
      "needs_background": "light"
     },
     "output_type": "display_data"
    },
    {
     "name": "stdout",
     "output_type": "stream",
     "text": [
      "0.44\n"
     ]
    }
   ],
   "source": [
    "# TESTING\n",
    "# una vez que encontramos un buen modelo, incluimos los datos de validacion\n",
    "# para entrenar la red y testeamos los resultados con los datos de test\n",
    "W = init_pesos()\n",
    "h_ent = range(0, P-C_T) # todos los datos menos los ultimos C_T\n",
    "W = entrenamiento(W, X[h_ent], Z[h_ent])\n",
    "h_test = range(P-C_T, P)\n",
    "print(validacion(W, X[h_test], Z[h_test]))"
   ]
  }
 ],
 "metadata": {
  "kernelspec": {
   "display_name": "Python 3",
   "language": "python",
   "name": "python3"
  },
  "language_info": {
   "codemirror_mode": {
    "name": "ipython",
    "version": 3
   },
   "file_extension": ".py",
   "mimetype": "text/x-python",
   "name": "python",
   "nbconvert_exporter": "python",
   "pygments_lexer": "ipython3",
   "version": "3.8.3"
  }
 },
 "nbformat": 4,
 "nbformat_minor": 2
}
