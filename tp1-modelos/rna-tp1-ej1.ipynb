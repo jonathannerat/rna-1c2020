{
 "cells": [
  {
   "cell_type": "markdown",
   "metadata": {},
   "source": [
    "# RNA - Trabajo Práctico 1 - E1\n",
    "Jonathan Teran <jteran@dc.uba.ar>\n",
    "\n",
    "En este notebook exploraremos tecnicas y modelos para una red neuronal que resuelva el ejercicio 1 del TP1."
   ]
  },
  {
   "cell_type": "markdown",
   "metadata": {},
   "source": [
    "## Diagnóstico de cáncer de mamas\n",
    "\n",
    "Los datos los recibimos en el archivo `tp1_ej1_training.csv`, siendo la primera columna el diagnóstico del caso particular, y las que siguen los datos de entrada del modelo. En un principio no nos interesan que representa cada dato, así que arrancaremos por normalizarlos cargarlos del csv y normalizarlos."
   ]
  },
  {
   "cell_type": "code",
   "execution_count": 1,
   "metadata": {},
   "outputs": [],
   "source": [
    "# importamos librería necesarias\n",
    "import numpy as np\n",
    "import pandas as pd\n",
    "from matplotlib import pyplot as plt, cm"
   ]
  },
  {
   "cell_type": "markdown",
   "metadata": {},
   "source": [
    "Para leer los datos utilizaremos `pandas`, y separaremos los datos de entrada en `X`, y los de salida en `Z`, interpretando el diagnóstico como 1 si es benigno, y -1 si es maligno"
   ]
  },
  {
   "cell_type": "code",
   "execution_count": 2,
   "metadata": {},
   "outputs": [],
   "source": [
    "# cargar datos\n",
    "DATA_FILE = 'tp1_ej1_training.csv'\n",
    "df = pd.read_csv(DATA_FILE, header=None)\n",
    "# ponemos todos los datos de entrada en X\n",
    "X = df.loc[:,1:].to_numpy()\n",
    "# los normalizamos\n",
    "X = (X - X.mean(0)) / X.std(0, ddof=1)\n",
    "# y los de salida en Z\n",
    "Z = np.array([1 if d == 'B' else -1 for d in df.loc[:, 0]])"
   ]
  },
  {
   "cell_type": "markdown",
   "metadata": {},
   "source": [
    "A continuación definiremos variables que definirán nuestro modelo, como la cantidad de nodos por capa, o la distribución de los datos en datos de testeo, validación y entrenamiento.\n",
    "\n",
    "Utilizaremos los datos de entrenamiento para entrenar la red, los de validación para verificar si el modelo es apropiado o deberíamos cambiarlo, y cuando nos hayamos decidido por un modelo particular, usaremos los de testeo para comprobar que tanto puede generalizar a otras instancias."
   ]
  },
  {
   "cell_type": "code",
   "execution_count": 37,
   "metadata": {},
   "outputs": [],
   "source": [
    "P = len(X)\n",
    "N = 10 # unidades de entrada\n",
    "M = 1 # unidades de salida\n",
    "S = [N, 20, 8, M] # distribución de nodos por capa\n",
    "L = len(S) # cantidad de capas\n",
    "LR = 1e-3 # learning rate\n",
    "\n",
    "# cantidades reservadas para: \n",
    "C_T = int(P * .05)  # testeo\n",
    "C_V = int(P * .15)  # validacion\n",
    "C_E = P - C_T - C_V # entrenamiento\n",
    "\n",
    "B = 16 # tamaños para los mini-lotes"
   ]
  },
  {
   "cell_type": "markdown",
   "metadata": {},
   "source": [
    "Finalmente, definiremos las funciones del modelo."
   ]
  },
  {
   "cell_type": "code",
   "execution_count": 4,
   "metadata": {},
   "outputs": [],
   "source": [
    "def bias_add(a):\n",
    "    b = len(a)\n",
    "    return np.concatenate((a, -np.ones((b,1))), axis=1)\n",
    "\n",
    "def bias_del(a):\n",
    "    return a[:,:-1]"
   ]
  },
  {
   "cell_type": "code",
   "execution_count": 5,
   "metadata": {},
   "outputs": [],
   "source": [
    "def activacion(X, W):\n",
    "    b = len(X)\n",
    "    # nodos por capa + nodo extra para el bias\n",
    "    Y = [ np.empty((b, S[i]+1)) for i in range(L)]\n",
    "    Y[L-1] = np.empty((b, M))\n",
    "    # Y sin bias\n",
    "    Ysb = X\n",
    "    for i in range (1, L):\n",
    "        Y[i-1][:,:] = bias_add(Ysb)\n",
    "        Ysb = np.tanh(np.dot(Y[i-1], W[i-1]))\n",
    "    Y[L-1][:,:] = Ysb\n",
    "    \n",
    "    return Y"
   ]
  },
  {
   "cell_type": "code",
   "execution_count": 30,
   "metadata": {},
   "outputs": [],
   "source": [
    "def correccion(W, Y, Z):\n",
    "    b = len(Z)\n",
    "    dW = [ np.empty_like(w) for w in W ]\n",
    "    D  = [ np.empty_like(y) for y in Y]\n",
    "    E  = Z.reshape((b, 1)) - Y[L-1]\n",
    "    dY = 1 - np.square(Y[L-1])\n",
    "    D[L-1] = np.multiply(E, dY)\n",
    "    \n",
    "    for k in range(L-1, 0, -1):\n",
    "        dE = [ np.outer(Y[k-1][i], D[k][i]) for i in range(b) ]\n",
    "        dW[k-1] = LR * np.mean(dE, axis=0)\n",
    "        E = np.dot(D[k], W[k-1].T)\n",
    "        dY = 1 - np.square(Y[k-1])\n",
    "        D[k-1] = bias_del(np.multiply(E, dY))\n",
    "    \n",
    "    return dW"
   ]
  },
  {
   "cell_type": "code",
   "execution_count": 7,
   "metadata": {},
   "outputs": [],
   "source": [
    "def adaptacion(W, dW):\n",
    "    return [ W[i] + dW[i] for i in range(L-1) ]"
   ]
  },
  {
   "cell_type": "code",
   "execution_count": 34,
   "metadata": {},
   "outputs": [],
   "source": [
    "def entrenamiento(W, X, Z):\n",
    "    t_max = 2000\n",
    "    t = 0\n",
    "    errores = []\n",
    "    error_estim = []\n",
    "    while t < t_max:\n",
    "        e = 0\n",
    "        indices = np.random.permutation(len(X))\n",
    "        for batch in range(0, len(indices), B):\n",
    "            h  = indices[batch : batch+B]\n",
    "            Xh = X[h]\n",
    "            Zh = Z[h]\n",
    "            Yh = activacion(Xh, W)\n",
    "            e += np.mean(np.square(np.subtract(Zh, np.sign(Yh[L-1].T))))\n",
    "            dW = correccion(W, Yh, Zh)\n",
    "            W  = adaptacion(W, dW)\n",
    "        errores.append(e)\n",
    "        t += 1\n",
    "        if t % 100 == 0:\n",
    "            print(t, e)\n",
    "    plt.plot(errores, 'r')\n",
    "    plt.show()\n",
    "    \n",
    "    return W"
   ]
  },
  {
   "cell_type": "code",
   "execution_count": 9,
   "metadata": {
    "scrolled": true
   },
   "outputs": [],
   "source": [
    "def validacion(W, X, Z):\n",
    "    # calculamos las activaciones para los datos de validacion\n",
    "    Y = activacion(X, W)\n",
    "    # contamos cuantos de los resultados del modelo concuerdan con el valor esperado\n",
    "    V = np.subtract(Z, np.sign(Y[L-1]).T)\n",
    "    return np.count_nonzero(V) / C_V"
   ]
  },
  {
   "cell_type": "code",
   "execution_count": 10,
   "metadata": {},
   "outputs": [],
   "source": [
    "def init_pesos():\n",
    "    W = [ np.random.randn(S[i]+1, S[i+1]) * np.sqrt(2/S[i]) for i in range(L-1) ]\n",
    "    return W"
   ]
  },
  {
   "cell_type": "code",
   "execution_count": 38,
   "metadata": {},
   "outputs": [
    {
     "name": "stdout",
     "output_type": "stream",
     "text": [
      "100 30.333333333333332\n",
      "200 24.77777777777778\n",
      "300 19.63888888888889\n",
      "400 15.88888888888889\n",
      "500 13.694444444444445\n",
      "600 12.63888888888889\n",
      "700 10.25\n",
      "800 8.75\n",
      "900 8.63888888888889\n",
      "1000 8.13888888888889\n",
      "1100 6.888888888888889\n",
      "1200 6.5\n",
      "1300 5.694444444444445\n",
      "1400 5.388888888888889\n",
      "1500 4.0\n",
      "1600 3.75\n",
      "1700 2.5\n",
      "1800 2.888888888888889\n",
      "1900 2.0\n",
      "2000 2.0\n"
     ]
    },
    {
     "data": {
      "image/png": "[encoded data removed]",
      "text/plain": [
       "<Figure size 432x288 with 1 Axes>"
      ]
     },
     "metadata": {
      "needs_background": "light"
     },
     "output_type": "display_data"
    },
    {
     "name": "stdout",
     "output_type": "stream",
     "text": [
      "0.14754098360655737\n"
     ]
    }
   ],
   "source": [
    "# busqueda de modelo\n",
    "# usaremos los datos de entrenamiento y de validación para entrenar la\n",
    "# red y evaluar si los resultados obtenidos son buenos o no.\n",
    "W = init_pesos()\n",
    "h_ent = range(0, C_E)\n",
    "W = entrenamiento(W, X[h_ent], Z[h_ent])\n",
    "h_val = range(C_E+1, P-C_T+1)\n",
    "print(validacion(W, X[h_val], Z[h_val]))"
   ]
  },
  {
   "cell_type": "code",
   "execution_count": 42,
   "metadata": {},
   "outputs": [
    {
     "name": "stdout",
     "output_type": "stream",
     "text": [
      "100 39.333333333333336\n",
      "200 30.916666666666668\n",
      "300 25.833333333333332\n",
      "400 19.666666666666668\n",
      "500 18.666666666666668\n",
      "600 16.666666666666668\n",
      "700 14.5\n",
      "800 14.166666666666666\n",
      "900 12.0\n",
      "1000 10.916666666666666\n",
      "1100 7.75\n",
      "1200 8.0\n",
      "1300 7.916666666666667\n",
      "1400 7.916666666666667\n",
      "1500 6.5\n",
      "1600 6.166666666666667\n",
      "1700 6.166666666666667\n",
      "1800 5.0\n",
      "1900 5.166666666666667\n",
      "2000 4.25\n"
     ]
    },
    {
     "data": {
      "image/png": "[encoded data removed]",
      "text/plain": [
       "<Figure size 432x288 with 1 Axes>"
      ]
     },
     "metadata": {
      "needs_background": "light"
     },
     "output_type": "display_data"
    },
    {
     "name": "stdout",
     "output_type": "stream",
     "text": [
      "0.01639344262295082\n"
     ]
    }
   ],
   "source": [
    "# testeo\n",
    "# una vez que encontramos un buen modelo, incluimos los datos de validacion\n",
    "# para entrenar la red y testeamos los resultados con los datos de test\n",
    "W = init_pesos()\n",
    "h_ent = range(0, P-C_T)\n",
    "W = entrenamiento(W, X[h_ent], Z[h_ent])\n",
    "h_test = range(P-C_T, P)\n",
    "print(validacion(W, X[h_test], Z[h_test]))"
   ]
  },
  {
   "cell_type": "code",
   "execution_count": null,
   "metadata": {},
   "outputs": [],
   "source": []
  }
 ],
 "metadata": {
  "kernelspec": {
   "display_name": "Python 3",
   "language": "python",
   "name": "python3"
  },
  "language_info": {
   "codemirror_mode": {
    "name": "ipython",
    "version": 3
   },
   "file_extension": ".py",
   "mimetype": "text/x-python",
   "name": "python",
   "nbconvert_exporter": "python",
   "pygments_lexer": "ipython3",
   "version": "3.8.3"
  }
 },
 "nbformat": 4,
 "nbformat_minor": 2
}
