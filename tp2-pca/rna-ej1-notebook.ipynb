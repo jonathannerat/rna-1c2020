{
 "cells": [
  {
   "cell_type": "markdown",
   "metadata": {},
   "source": [
    "# RNA: TP2"
   ]
  },
  {
   "cell_type": "code",
   "execution_count": 20,
   "metadata": {},
   "outputs": [],
   "source": [
    "from matplotlib import pyplot as plt, cm\n",
    "import pandas as pd\n",
    "import numpy as np\n",
    "from mpl_toolkits.mplot3d import Axes3D\n",
    "\n",
    "rs = np.random.RandomState(seed=0)"
   ]
  },
  {
   "cell_type": "code",
   "execution_count": 2,
   "metadata": {},
   "outputs": [],
   "source": [
    "# datos de entrada de entrenamiento\n",
    "X = np.loadtxt(\"rna-tp2-datasets.csv\", delimiter=\",\")\n",
    "# categorias asignadas a cada instancia\n",
    "CAT = X[:,0]\n",
    "# eliminamos la categoria de los datos de entrada\n",
    "X = X[:,1:]\n",
    "\n",
    "X = (X - X.mean(axis=0)) / X.std(axis=0, ddof=1)\n",
    "\n",
    "\n",
    "P = X.shape[0]\n",
    "N = X.shape[1]\n",
    "M = 9 # 9 dimensiones de salida"
   ]
  },
  {
   "cell_type": "code",
   "execution_count": 3,
   "metadata": {},
   "outputs": [],
   "source": [
    "def inicializar_pesos():\n",
    "    return rs.normal(0, 0.1, (N, M))\n",
    "\n",
    "def ortogonalidad(W):\n",
    "    return np.sum(np.abs(np.dot(W.T, W) - np.identity(M))) / 2"
   ]
  },
  {
   "cell_type": "code",
   "execution_count": 4,
   "metadata": {},
   "outputs": [],
   "source": [
    "def correccion_oja(W, X, Y):\n",
    "    Z = np.dot(Y, W.T)\n",
    "    return np.outer(X-Z, Y)\n",
    "    \n",
    "def correccion_sanger(W, X, Y):\n",
    "    D = np.triu(np.ones((M, M)))\n",
    "    Z = np.dot(W, Y.T*D)\n",
    "    return (X.T-Z) * Y"
   ]
  },
  {
   "cell_type": "code",
   "execution_count": 5,
   "metadata": {},
   "outputs": [],
   "source": [
    "def entrenamiento(W, X, corr):\n",
    "    MAX_EPOCAS = 200\n",
    "    MAX_ERR = 0.05\n",
    "    LR = 1e-3\n",
    "    t = 0 # epoca\n",
    "    ort = 1\n",
    "    hort = []\n",
    "    lr = LR\n",
    "    \n",
    "    while ort > MAX_ERR and t < MAX_EPOCAS:\n",
    "        for i in range(P):\n",
    "            x = X[i:i+1] # para forzar un shape (1, len(x))\n",
    "            Y = np.dot(x, W)\n",
    "            dW = lr * corr(W, x, Y)\n",
    "            W += dW\n",
    "            \n",
    "        ort = ortogonalidad(W)\n",
    "        hort.append(ort)\n",
    "        if t % 10 == 0: \n",
    "            print(f\"epoca: {t:03} | ortog: {ort}\")\n",
    "        t += 1\n",
    "        lr = LR / t\n",
    "    plt.plot(hort)\n",
    "    plt.show()\n",
    "    return W"
   ]
  },
  {
   "cell_type": "code",
   "execution_count": 17,
   "metadata": {},
   "outputs": [
    {
     "name": "stdout",
     "output_type": "stream",
     "text": [
      "epoca: 000 | ortog: 2.2544692805711617\n",
      "epoca: 010 | ortog: 0.19967993276482476\n",
      "epoca: 020 | ortog: 0.1007864071175664\n",
      "epoca: 030 | ortog: 0.06745703988166883\n",
      "epoca: 040 | ortog: 0.05069838520172098\n"
     ]
    }
   ],
   "source": [
    "W = inicializar_pesos()\n",
    "W = entrenamiento(W, X, correccion_oja)\n",
    "Y = np.dot(X, W)"
   ]
  },
  {
   "cell_type": "code",
   "execution_count": 19,
   "metadata": {},
   "outputs": [],
   "source": [
    "# plot oja\n",
    "for i in range(3):\n",
    "    fig = plt.figure()\n",
    "    xyz = fig.add_subplot(111, projection=\"3d\")\n",
    "    xyz.set_xlim(-6, 6)\n",
    "    xyz.set_ylim(-6, 6)\n",
    "    xyz.set_zlim(-6, 6)\n",
    "    xyz.scatter3D(Y[:,3*i+0], Y[:, 3*i+1], Y[:, 3*i+2], c=CAT)\n",
    "    fig.show()\n",
    "plt.show()"
   ]
  },
  {
   "cell_type": "code",
   "execution_count": 13,
   "metadata": {},
   "outputs": [
    {
     "name": "stdout",
     "output_type": "stream",
     "text": [
      "epoca: 000 | ortog: 5.306255216696525\n",
      "epoca: 010 | ortog: 0.41843831627269645\n",
      "epoca: 020 | ortog: 0.24356338516544523\n",
      "epoca: 030 | ortog: 0.1843703783649402\n",
      "epoca: 040 | ortog: 0.1540678054568299\n",
      "epoca: 050 | ortog: 0.13578105676395996\n",
      "epoca: 060 | ortog: 0.1230293803428616\n",
      "epoca: 070 | ortog: 0.11359770705637508\n",
      "epoca: 080 | ortog: 0.10716415772341448\n",
      "epoca: 090 | ortog: 0.10198141136630537\n",
      "epoca: 100 | ortog: 0.0976921037174988\n",
      "epoca: 110 | ortog: 0.09405619664870744\n",
      "epoca: 120 | ortog: 0.09092527590818436\n",
      "epoca: 130 | ortog: 0.0881937480228486\n",
      "epoca: 140 | ortog: 0.08578426004563745\n",
      "epoca: 150 | ortog: 0.0836387363633514\n",
      "epoca: 160 | ortog: 0.08171264946440063\n",
      "epoca: 170 | ortog: 0.07997123443517484\n",
      "epoca: 180 | ortog: 0.07838918669945677\n",
      "epoca: 190 | ortog: 0.07694541992867468\n"
     ]
    }
   ],
   "source": [
    "W = inicializar_pesos()\n",
    "W = entrenamiento(W, X, correccion_sanger)\n",
    "Y = np.dot(X, W)"
   ]
  },
  {
   "cell_type": "code",
   "execution_count": 16,
   "metadata": {},
   "outputs": [],
   "source": [
    "# plot sanger\n",
    "for i in range(3):\n",
    "    fig = plt.figure()\n",
    "    xyz = fig.add_subplot(111, projection=\"3d\")\n",
    "    xyz.set_xlim(-10, 10)\n",
    "    xyz.set_ylim(-10, 10)\n",
    "    xyz.set_zlim(-10, 10)\n",
    "    xyz.scatter3D(Y[:,3*i+0], Y[:, 3*i+1], Y[:, 3*i+2], c=CAT)\n",
    "    fig.show()\n",
    "plt.show()"
   ]
  },
  {
   "cell_type": "code",
   "execution_count": null,
   "metadata": {},
   "outputs": [],
   "source": []
  }
 ],
 "metadata": {
  "kernelspec": {
   "display_name": "Python 3",
   "language": "python",
   "name": "python3"
  },
  "language_info": {
   "codemirror_mode": {
    "name": "ipython",
    "version": 3
   },
   "file_extension": ".py",
   "mimetype": "text/x-python",
   "name": "python",
   "nbconvert_exporter": "python",
   "pygments_lexer": "ipython3",
   "version": "3.8.3"
  }
 },
 "nbformat": 4,
 "nbformat_minor": 4
}
